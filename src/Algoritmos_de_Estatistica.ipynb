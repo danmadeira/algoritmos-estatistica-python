{
 "cells": [
  {
   "cell_type": "markdown",
   "metadata": {
    "id": "251q1Bl6kOMH"
   },
   "source": [
    "# Demonstração de algoritmos de estatística em Python"
   ]
  },
  {
   "cell_type": "code",
   "execution_count": 1,
   "metadata": {
    "id": "UesTHF-tqiyk"
   },
   "outputs": [],
   "source": [
    "# Bibliotecas utilizadas\n",
    "\n",
    "import statistics\n",
    "import math\n",
    "from scipy import stats\n",
    "import pandas as pd\n",
    "from collections import Counter"
   ]
  },
  {
   "cell_type": "markdown",
   "metadata": {
    "id": "gsIU8Mq046KX"
   },
   "source": [
    "### <font color=darkblue>Média Aritmética</font>\n",
    "Para dados não agrupados = $[x_1, x_2, x_3, ...]$\n",
    "## $$\\mu = \\frac{1}{n} \\sum_{i=1}^{n} x_i$$"
   ]
  },
  {
   "cell_type": "code",
   "execution_count": 2,
   "metadata": {
    "id": "H1KyY0DdpvDP"
   },
   "outputs": [],
   "source": [
    "def media_aritmetica(dados):\n",
    "    somatorio = 0\n",
    "    n = len(dados)\n",
    "    media = 0\n",
    "    for x in dados:\n",
    "        somatorio = somatorio + x\n",
    "    if n > 0:\n",
    "        media = somatorio / n\n",
    "    return media"
   ]
  },
  {
   "cell_type": "markdown",
   "metadata": {
    "id": "k3BVEA33BSUZ"
   },
   "source": [
    "### <font color=darkblue>Média Aritmética Ponderada</font>\n",
    "Para dados agrupados = $[[w_1,x_1], [w_2,x_2], [w_3,x_3], ...]$\n",
    "## $$\\mu_p = \\frac{1}{\\sum_{i=1}^{n} w_i} \\sum_{i=1}^{n} w_i x_i$$"
   ]
  },
  {
   "cell_type": "code",
   "execution_count": 3,
   "metadata": {
    "id": "NEnoRYfDd0Za"
   },
   "outputs": [],
   "source": [
    "def media_aritmetica_ponderada(dados):\n",
    "    somatorio = 0\n",
    "    pesos = 0\n",
    "    media = 0\n",
    "    for i in dados:\n",
    "        w = i[0]\n",
    "        x = i[1]\n",
    "        somatorio = somatorio + (w * x)\n",
    "        pesos = pesos + w\n",
    "    if pesos > 0:\n",
    "        media = somatorio / pesos\n",
    "    return media"
   ]
  },
  {
   "cell_type": "markdown",
   "metadata": {
    "id": "bReI5SIHC0e4"
   },
   "source": [
    "### <font color=darkblue>Média Geométrica</font>\n",
    "Para dados não agrupados = $[x_1, x_2, x_3, ...]$\n",
    "## $$\\mu_g = \\sqrt[n]{\\prod_{i=1}^{n} x_i}$$"
   ]
  },
  {
   "cell_type": "code",
   "execution_count": 4,
   "metadata": {
    "id": "Lsgb5VpLfmaL"
   },
   "outputs": [],
   "source": [
    "def media_geometrica(dados):\n",
    "    produtorio = 1\n",
    "    n = len(dados)\n",
    "    media = 0\n",
    "    for x in dados:\n",
    "        produtorio = produtorio * x\n",
    "    if n > 0:\n",
    "        media = pow(produtorio, 1 / n)\n",
    "    return media"
   ]
  },
  {
   "cell_type": "markdown",
   "metadata": {
    "id": "U_g6woYNFR4n"
   },
   "source": [
    "### <font color=darkblue>Média Geométrica Ponderada</font>\n",
    "Para dados agrupados = $[[w_1,x_1], [w_2,x_2], [w_3,x_3], ...]$\n",
    "## $$\\mu_{gp} = \\sqrt[\\sum_{i=1}^{n} w_i]{\\prod_{i=1}^{n} {x_i}^{w_i}}$$"
   ]
  },
  {
   "cell_type": "code",
   "execution_count": 5,
   "metadata": {
    "id": "rcbO0qAEgWwD"
   },
   "outputs": [],
   "source": [
    "def media_geometrica_ponderada(dados):\n",
    "    produtorio = 1\n",
    "    pesos = 0\n",
    "    media = 0\n",
    "    for i in dados:\n",
    "        w = i[0]\n",
    "        x = i[1]\n",
    "        produtorio = produtorio * pow(x, w);\n",
    "        pesos = pesos + w\n",
    "    if pesos > 0:\n",
    "        media = pow(produtorio, 1 / pesos)\n",
    "    return media"
   ]
  },
  {
   "cell_type": "markdown",
   "metadata": {
    "id": "FXkcrZLoGqWE"
   },
   "source": [
    "### <font color=darkblue>Média Harmônica</font>\n",
    "Para dados não agrupados = $[x_1, x_2, x_3, ...]$\n",
    "## $$\\mu_h = \\frac{n}{\\sum_{i=1}^{n} \\frac{1}{x_i}}$$"
   ]
  },
  {
   "cell_type": "code",
   "execution_count": 6,
   "metadata": {
    "id": "9bm0ZEhvrWbC"
   },
   "outputs": [],
   "source": [
    "def media_harmonica(dados):\n",
    "    somatorio = 0\n",
    "    n = len(dados)\n",
    "    media = 0\n",
    "    for x in dados:\n",
    "        somatorio = somatorio + (1 / x)\n",
    "    if somatorio != 0:\n",
    "        media = n / somatorio\n",
    "    return media"
   ]
  },
  {
   "cell_type": "markdown",
   "metadata": {
    "id": "y77kmwKZHvMn"
   },
   "source": [
    "### <font color=darkblue>Média Harmônica Ponderada</font>\n",
    "Para dados agrupados = $[[w_1,x_1], [w_2,x_2], [w_3,x_3], ...]$\n",
    "## $$\\mu_{hp} = \\frac{\\sum_{i=1}^{n} w_i}{\\sum_{i=1}^{n} \\frac{w_i}{x_i}}$$"
   ]
  },
  {
   "cell_type": "code",
   "execution_count": 7,
   "metadata": {
    "id": "TVpPenhXh7q0"
   },
   "outputs": [],
   "source": [
    "def media_harmonica_ponderada(dados):\n",
    "    somatorio = 0\n",
    "    pesos = 0\n",
    "    media = 0\n",
    "    for i in dados:\n",
    "        w = i[0]\n",
    "        x = i[1]\n",
    "        somatorio = somatorio + (w / x)\n",
    "        pesos = pesos + w\n",
    "    if somatorio != 0:\n",
    "        media = pesos / somatorio\n",
    "    return media"
   ]
  },
  {
   "cell_type": "markdown",
   "metadata": {
    "id": "jORjJpYqIW2D"
   },
   "source": [
    "### <font color=darkblue>Média Quadrática</font>\n",
    "Para dados não agrupados = $[x_1, x_2, x_3, ...]$\n",
    "## $$\\mu_q = \\sqrt{\\frac{1}{n} \\sum_{i=1}^{n} {x_i}^2}$$"
   ]
  },
  {
   "cell_type": "code",
   "execution_count": 8,
   "metadata": {
    "id": "j4SPSGPTmNmT"
   },
   "outputs": [],
   "source": [
    "def media_quadratica(dados):\n",
    "    somatorio = 0\n",
    "    n = len(dados)\n",
    "    media = 0\n",
    "    for x in dados:\n",
    "        somatorio = somatorio + pow(x, 2)\n",
    "    if n > 0:\n",
    "        media = math.sqrt(somatorio / n)\n",
    "    return media"
   ]
  },
  {
   "cell_type": "markdown",
   "metadata": {
    "id": "nZilrRv4JIIf"
   },
   "source": [
    "### <font color=darkblue>Média Quadrática Ponderada</font>\n",
    "Para dados agrupados = $[[w_1,x_1], [w_2,x_2], [w_3,x_3], ...]$\n",
    "## $$\\mu_{qp} = \\sqrt{\\frac{1}{\\sum_{i=1}^{n} w_i} \\sum_{i=1}^{n} w_i{x_i}^2}$$"
   ]
  },
  {
   "cell_type": "code",
   "execution_count": 9,
   "metadata": {
    "id": "5tBCOolfnBQj"
   },
   "outputs": [],
   "source": [
    "def media_quadratica_ponderada(dados):\n",
    "    somatorio = 0\n",
    "    pesos = 0\n",
    "    media = 0\n",
    "    for i in dados:\n",
    "        w = i[0]\n",
    "        x = i[1]\n",
    "        somatorio = somatorio + (w * pow(x, 2))\n",
    "        pesos = pesos + w\n",
    "    if pesos > 0:\n",
    "        media = math.sqrt(somatorio / pesos)\n",
    "    return media"
   ]
  },
  {
   "cell_type": "markdown",
   "metadata": {
    "id": "XRNSVF0MJ8Db"
   },
   "source": [
    "### <font color=darkblue>Média Cúbica</font>\n",
    "Para dados não agrupados = $[x_1, x_2, x_3, ...]$\n",
    "## $$\\mu_c = \\sqrt[3]{\\frac{1}{n} \\sum_{i=1}^{n} {x_i}^3}$$"
   ]
  },
  {
   "cell_type": "code",
   "execution_count": 10,
   "metadata": {
    "id": "VripFzHRoT68"
   },
   "outputs": [],
   "source": [
    "def media_cubica(dados):\n",
    "    somatorio = 0\n",
    "    n = len(dados)\n",
    "    media = 0\n",
    "    for x in dados:\n",
    "        somatorio = somatorio + pow(x, 3)\n",
    "    if n > 0:\n",
    "        media = pow((somatorio / n), 1/3)\n",
    "    return media"
   ]
  },
  {
   "cell_type": "markdown",
   "metadata": {
    "id": "cDkLybAAKRib"
   },
   "source": [
    "### <font color=darkblue>Média Cúbica Ponderada</font>\n",
    "Para dados agrupados = $[[w_1,x_1], [w_2,x_2], [w_3,x_3], ...]$\n",
    "## $$\\mu_{cp} = \\sqrt[3]{\\frac{1}{\\sum_{i=1}^{n} w_i} \\sum_{i=1}^{n} w_i {x_i}^3}$$"
   ]
  },
  {
   "cell_type": "code",
   "execution_count": 11,
   "metadata": {
    "id": "t_nCpv1zowe-"
   },
   "outputs": [],
   "source": [
    "def media_cubica_ponderada(dados):\n",
    "    somatorio = 0\n",
    "    pesos = 0\n",
    "    media = 0\n",
    "    for i in dados:\n",
    "        w = i[0]\n",
    "        x = i[1]\n",
    "        somatorio = somatorio + (w * pow(x, 3))\n",
    "        pesos = pesos + w\n",
    "    if pesos > 0:\n",
    "        media = pow((somatorio / pesos), 1/3)\n",
    "    return media"
   ]
  },
  {
   "cell_type": "markdown",
   "metadata": {
    "id": "qm67VNtiLDsE"
   },
   "source": [
    "### <font color=darkblue>Média Desarmônica</font>\n",
    "Para dados não agrupados = $[x_1, x_2, x_3, ...]$\n",
    "## $$\\mu_d = \\frac{2}{\\frac{1}{\\frac{\\sum_{i=1}^{n} x_i}{n}} + \\frac{1}{\\frac{{\\bigl(\\frac{\\sum_{i=1}^{n} x_i}{n}\\bigl)}^2}{\\frac{n}{\\sum_{i=1}^{n} \\frac{1}{x_i}}}}}$$"
   ]
  },
  {
   "cell_type": "code",
   "execution_count": 12,
   "metadata": {
    "id": "2A0LwvPHpGwV"
   },
   "outputs": [],
   "source": [
    "def media_desarmonica(dados):\n",
    "    sx = 0\n",
    "    sxi = 0\n",
    "    n = len(dados)\n",
    "    for x in dados:\n",
    "        sx = sx + x\n",
    "        sxi = sxi + (1 / x)\n",
    "    media = 2 / ((1 / (sx / n)) + (1 / (pow(sx / n, 2) / (n / sxi))))\n",
    "    return media"
   ]
  },
  {
   "cell_type": "markdown",
   "metadata": {
    "id": "1TvEYgTrNtJH"
   },
   "source": [
    "### <font color=darkblue>Média Desarmônica Ponderada</font>\n",
    "Para dados agrupados = $[[w_1,x_1], [w_2,x_2], [w_3,x_3], ...]$\n",
    "## $$\\mu_{dp} = \\frac{2}{\\frac{1}{\\frac{\\sum_{i=1}^{n} w_i x_i}{\\sum_{i=1}^{n} w_i}} + \\frac{1}{\\frac{{\\Bigl(\\frac{\\sum_{i=1}^{n} w_i x_i}{\\sum_{i=1}^{n} w_i}\\Bigl)}^2}{\\frac{\\sum_{i=1}^{n} w_i}{\\sum_{i=1}^{n} \\frac{w_i}{x_i}}}}}$$"
   ]
  },
  {
   "cell_type": "code",
   "execution_count": 13,
   "metadata": {
    "id": "ReCWZIKPp5q8"
   },
   "outputs": [],
   "source": [
    "def media_desarmonica_ponderada(dados):\n",
    "    spwx = 0\n",
    "    sw = 0\n",
    "    sdwx = 0\n",
    "    for i in dados:\n",
    "        w = i[0]\n",
    "        x = i[1]\n",
    "        spwx = spwx + (w * x)\n",
    "        sw = sw + w\n",
    "        sdwx = sdwx + (w / x)\n",
    "    media = 2 / ((1 / (spwx / sw)) + (1 / (pow(spwx / sw, 2) / (sw / sdwx))))\n",
    "    return media"
   ]
  },
  {
   "cell_type": "markdown",
   "metadata": {
    "id": "lA0lLUeAPdFf"
   },
   "source": [
    "### <font color=darkblue>Mediana</font>\n",
    "Para dados não agrupados = $[x_1, x_2, x_3, ...]$"
   ]
  },
  {
   "cell_type": "code",
   "execution_count": 14,
   "metadata": {
    "id": "YxVZkQOpsKsz"
   },
   "outputs": [],
   "source": [
    "def mediana(dados):\n",
    "    dados.sort()\n",
    "    n = len(dados)\n",
    "    i = round(n / 2) - 1\n",
    "    if (n % 2) != 0:\n",
    "        mediana = dados[i]\n",
    "    else:\n",
    "        mediana = media_aritmetica([dados[i], dados[i + 1]]);\n",
    "    return mediana"
   ]
  },
  {
   "cell_type": "markdown",
   "metadata": {
    "id": "-JX2RbtkPiYJ"
   },
   "source": [
    "### <font color=darkblue>Moda</font>\n",
    "Para dados não agrupados = $[x_1, x_2, x_3, ...]$"
   ]
  },
  {
   "cell_type": "code",
   "execution_count": 15,
   "metadata": {
    "id": "-Sk4Tazpsk0D"
   },
   "outputs": [],
   "source": [
    "def moda(dados):\n",
    "    moda = []\n",
    "    contagem = Counter(dados).most_common()\n",
    "    frequencias = [list(i) for i in contagem]\n",
    "    if frequencias[0][1] > 1:\n",
    "        for i in frequencias:\n",
    "            if i[1] == frequencias[0][1]:\n",
    "                moda.append(i[0])\n",
    "            else:\n",
    "                break\n",
    "    return moda"
   ]
  },
  {
   "cell_type": "markdown",
   "metadata": {
    "id": "DdocqrvIY4vC"
   },
   "source": [
    "### <font color=darkblue>Desvio Absoluto Médio</font>\n",
    "Para dados não agrupados = $[x_1, x_2, x_3, ...]$\n",
    "## $$D_{am} = \\frac{1}{n} \\sum_{i=1}^{n} |x_i - \\mu|$$"
   ]
  },
  {
   "cell_type": "code",
   "execution_count": 16,
   "metadata": {
    "id": "rpvF4V5oYSdD"
   },
   "outputs": [],
   "source": [
    "def desvio_medio(dados):\n",
    "    somatorio = 0\n",
    "    n = len(dados)\n",
    "    media = media_aritmetica(dados)\n",
    "    desvio = 0\n",
    "    for x in dados:\n",
    "        somatorio = somatorio + abs(x - media)\n",
    "    if n > 0:\n",
    "        desvio = somatorio / n\n",
    "    return desvio"
   ]
  },
  {
   "cell_type": "markdown",
   "metadata": {
    "id": "KT-f8ZLnao5s"
   },
   "source": [
    "### <font color=darkblue>Desvio Absoluto Mediano</font>\n",
    "Para dados não agrupados = $[x_1, x_2, x_3, ...]$\n",
    "## $$D_{am} = Md(|x_i - \\tilde{x}|)$$"
   ]
  },
  {
   "cell_type": "code",
   "execution_count": 17,
   "metadata": {
    "id": "HC7wXA2maKyY"
   },
   "outputs": [],
   "source": [
    "def desvio_mediano(dados):\n",
    "    md = mediana(dados)\n",
    "    desvios = []\n",
    "    for x in dados:\n",
    "        desvios.append(abs(x - md))\n",
    "    desvio = mediana(desvios)\n",
    "    return desvio"
   ]
  },
  {
   "cell_type": "markdown",
   "metadata": {
    "id": "0RbSjZXRPqIq"
   },
   "source": [
    "### <font color=darkblue>Variância Populacional</font>\n",
    "Para dados não agrupados = $[x_1, x_2, x_3, ...]$\n",
    "## $$\\sigma^2 = \\frac{1}{n} \\sum_{i=1}^{n} (x_i - \\mu)^2$$"
   ]
  },
  {
   "cell_type": "code",
   "execution_count": 18,
   "metadata": {
    "id": "oz00CXiFQsao"
   },
   "outputs": [],
   "source": [
    "def variancia_populacional(dados):\n",
    "    somatorio = 0\n",
    "    n = len(dados)\n",
    "    media = media_aritmetica(dados)\n",
    "    variancia = 0\n",
    "    for i in dados:\n",
    "        somatorio = somatorio + pow(i - media, 2)\n",
    "    if n > 0:\n",
    "        variancia = somatorio / n\n",
    "    return variancia"
   ]
  },
  {
   "cell_type": "markdown",
   "metadata": {
    "id": "n7DOpnzt8wQw"
   },
   "source": [
    "### <font color=darkblue>Desvio Padrão Populacional</font>\n",
    "Para dados não agrupados = $[x_1, x_2, x_3, ...]$\n",
    "## $$\\sigma = \\sqrt{\\frac{1}{n} \\sum_{i=1}^{n} (x_i - \\mu)^2}$$"
   ]
  },
  {
   "cell_type": "code",
   "execution_count": 19,
   "metadata": {
    "id": "8gTbRLzstQ-T"
   },
   "outputs": [],
   "source": [
    "def desvio_padrao_populacional(dados):\n",
    "    variancia = variancia_populacional(dados)\n",
    "    desvio = math.sqrt(variancia)\n",
    "    return desvio"
   ]
  },
  {
   "cell_type": "markdown",
   "metadata": {
    "id": "WSqXz5_WSTHN"
   },
   "source": [
    "### <font color=darkblue>Variância Amostral</font>\n",
    "Para dados não agrupados = $[x_1, x_2, x_3, ...]$\n",
    "## $$s^2 = \\frac{1}{n-1} \\sum_{i=1}^{n} (x_i - \\bar{x})^2$$"
   ]
  },
  {
   "cell_type": "code",
   "execution_count": 20,
   "metadata": {
    "id": "5_ZnTb2OteJy"
   },
   "outputs": [],
   "source": [
    "def variancia_amostral(dados):\n",
    "    somatorio = 0\n",
    "    n = len(dados)\n",
    "    media = media_aritmetica(dados)\n",
    "    variancia = 0\n",
    "    for i in dados:\n",
    "        somatorio = somatorio + pow(i - media, 2)\n",
    "    if n > 1:\n",
    "        variancia = somatorio / (n - 1)\n",
    "    return variancia"
   ]
  },
  {
   "cell_type": "markdown",
   "metadata": {
    "id": "DUbIoL549OwH"
   },
   "source": [
    "### <font color=darkblue>Desvio Padrão Amostral</font>\n",
    "Para dados não agrupados = $[x_1, x_2, x_3, ...]$\n",
    "## $$s = \\sqrt{\\frac{1}{n-1} \\sum_{i=1}^{n} (x_i - \\bar{x})^2}$$"
   ]
  },
  {
   "cell_type": "code",
   "execution_count": 21,
   "metadata": {
    "id": "nWmoyKMLtmvi"
   },
   "outputs": [],
   "source": [
    "def desvio_padrao_amostral(dados):\n",
    "    variancia = variancia_amostral(dados)\n",
    "    desvio = math.sqrt(variancia)\n",
    "    return desvio"
   ]
  },
  {
   "cell_type": "markdown",
   "metadata": {
    "id": "U6-mdSnPRemr"
   },
   "source": [
    "### <font color=darkblue>Variância Populacional</font>\n",
    "Para dados agrupados = $[[w_1,x_1], [w_2,x_2], [w_3,x_3], ...]$\n",
    "## $$\\sigma^2 = \\frac{1}{\\sum_{i=1}^{n} w_i} \\sum_{i=1}^{n} \\bigl((x_i - \\mu)^2 w_i\\bigl)$$"
   ]
  },
  {
   "cell_type": "code",
   "execution_count": 22,
   "metadata": {
    "id": "NFplylEEUUo1"
   },
   "outputs": [],
   "source": [
    "def variancia_populacional_agrupado(dados):\n",
    "    somatorio = 0\n",
    "    pesos = 0\n",
    "    media = media_aritmetica_ponderada(dados)\n",
    "    variancia = 0\n",
    "    for i in dados:\n",
    "        w = i[0]\n",
    "        x = i[1]\n",
    "        somatorio = somatorio + (pow(x - media, 2) * w)\n",
    "        pesos = pesos + w\n",
    "    if pesos > 0:\n",
    "        variancia = somatorio / pesos\n",
    "    return variancia"
   ]
  },
  {
   "cell_type": "markdown",
   "metadata": {
    "id": "aCNJXBV0VafS"
   },
   "source": [
    "### <font color=darkblue>Desvio Padrão Populacional</font>\n",
    "Para dados agrupados = $[[w_1,x_1], [w_2,x_2], [w_3,x_3], ...]$\n",
    "## $$\\sigma = \\sqrt{\\frac{1}{\\sum_{i=1}^{n} w_i} \\sum_{i=1}^{n} \\bigl((x_i - \\mu)^2 w_i\\bigl)}$$"
   ]
  },
  {
   "cell_type": "code",
   "execution_count": 23,
   "metadata": {
    "id": "SQf2f2h5VWwD"
   },
   "outputs": [],
   "source": [
    "def desvio_padrao_populacional_agrupado(dados):\n",
    "    variancia = variancia_populacional_agrupado(dados)\n",
    "    desvio = math.sqrt(variancia)\n",
    "    return desvio"
   ]
  },
  {
   "cell_type": "markdown",
   "metadata": {
    "id": "-VWf-3rPS9wg"
   },
   "source": [
    "### <font color=darkblue>Variância Amostral</font>\n",
    "Para dados agrupados = $[[w_1,x_1], [w_2,x_2], [w_3,x_3], ...]$\n",
    "## $$s^2 = \\frac{1}{\\sum_{i=1}^{n} w_i - 1} \\sum_{i=1}^{n} \\bigl((x_i - \\bar{x})^2 w_i\\bigl)$$"
   ]
  },
  {
   "cell_type": "code",
   "execution_count": 24,
   "metadata": {
    "id": "EszoUiTzWO_d"
   },
   "outputs": [],
   "source": [
    "def variancia_amostral_agrupado(dados):\n",
    "    somatorio = 0\n",
    "    pesos = 0\n",
    "    media = media_aritmetica_ponderada(dados)\n",
    "    variancia = 0\n",
    "    for i in dados:\n",
    "        w = i[0]\n",
    "        x = i[1]\n",
    "        somatorio = somatorio + (pow(x - media, 2) * w)\n",
    "        pesos = pesos + w\n",
    "    if pesos > 1:\n",
    "        variancia = somatorio / (pesos - 1)\n",
    "    return variancia"
   ]
  },
  {
   "cell_type": "markdown",
   "metadata": {
    "id": "6CWbnwSrV8MJ"
   },
   "source": [
    "### <font color=darkblue>Desvio Padrão Amostral</font>\n",
    "Para dados agrupados = $[[w_1,x_1], [w_2,x_2], [w_3,x_3], ...]$\n",
    "## $$s = \\sqrt{\\frac{1}{\\sum_{i=1}^{n} w_i - 1} \\sum_{i=1}^{n} \\bigl((x_i - \\bar{x})^2 w_i\\bigl)}$$"
   ]
  },
  {
   "cell_type": "code",
   "execution_count": 25,
   "metadata": {
    "id": "eVpGA9vKXcoN"
   },
   "outputs": [],
   "source": [
    "def desvio_padrao_amostral_agrupado(dados):\n",
    "    variancia = variancia_amostral_agrupado(dados)\n",
    "    desvio = math.sqrt(variancia)\n",
    "    return desvio"
   ]
  },
  {
   "cell_type": "markdown",
   "metadata": {
    "id": "O3KZltQbaVkk"
   },
   "source": [
    "### <font color=darkblue>Coeficiente de Variação</font>\n",
    "Para dados não agrupados = $[x_1, x_2, x_3, ...]$\n",
    "## $$CV = \\frac{\\sigma}{\\mu} \\times 100$$"
   ]
  },
  {
   "cell_type": "code",
   "execution_count": 26,
   "metadata": {
    "id": "VGcnN4nFYwWS"
   },
   "outputs": [],
   "source": [
    "def coeficiente_variacao(dados):\n",
    "    desvio = desvio_padrao_populacional(dados)\n",
    "    media = media_aritmetica(dados)\n",
    "    cv = desvio / media * 100\n",
    "    return cv / 100"
   ]
  },
  {
   "cell_type": "markdown",
   "metadata": {
    "id": "e-LEHztKbGAW"
   },
   "source": [
    "### <font color=darkblue>Coeficiente de Variação</font>\n",
    "Para dados agrupados = $[[w_1,x_1], [w_2,x_2], [w_3,x_3], ...]$\n",
    "## $$CV = \\frac{\\sigma}{\\mu} \\times 100$$"
   ]
  },
  {
   "cell_type": "code",
   "execution_count": 27,
   "metadata": {
    "id": "NxOTrH0wZXb6"
   },
   "outputs": [],
   "source": [
    "def coeficiente_variacao_agrupado(dados):\n",
    "    desvio = desvio_padrao_populacional_agrupado(dados)\n",
    "    media = media_aritmetica_ponderada(dados)\n",
    "    cv = desvio / media * 100\n",
    "    return cv / 100"
   ]
  },
  {
   "cell_type": "markdown",
   "metadata": {
    "id": "U1oL60PRc1v4"
   },
   "source": [
    "### <font color=darkblue>Covariância Populacional</font>\n",
    "Para dados correlacionados = $[[x_1,y_1], [x_2,y_2], [x_3,y_3], ...]$\n",
    "## $$\\sigma_{xy} = \\frac{1}{n} \\sum_{i=1}^{n} (x_i - \\mu_x)(y_i - \\mu_y)$$"
   ]
  },
  {
   "cell_type": "code",
   "execution_count": 28,
   "metadata": {
    "id": "BUs0LoZvaHIZ"
   },
   "outputs": [],
   "source": [
    "def covariancia_populacional(dados):\n",
    "    somatorio = 0\n",
    "    n = len(dados)\n",
    "    covariancia = 0\n",
    "    dadosx = []\n",
    "    dadosy = []\n",
    "    for i in dados:\n",
    "        x = i[0]\n",
    "        y = i[1]\n",
    "        dadosx.append(x)\n",
    "        dadosy.append(y)\n",
    "    mediax = media_aritmetica(dadosx)\n",
    "    mediay = media_aritmetica(dadosy)\n",
    "    for i in dados:\n",
    "        x = i[0]\n",
    "        y = i[1]\n",
    "        somatorio = somatorio + ((x - mediax) * (y - mediay))\n",
    "    if n > 0:\n",
    "        covariancia = somatorio / n\n",
    "    return covariancia"
   ]
  },
  {
   "cell_type": "markdown",
   "metadata": {
    "id": "qj1GL7WUdtq2"
   },
   "source": [
    "### <font color=darkblue>Covariância Amostral</font>\n",
    "Para dados correlacionados = $[[x_1,y_1], [x_2,y_2], [x_3,y_3], ...]$\n",
    "## $$s_{xy} = \\frac{1}{n-1} \\sum_{i=1}^{n} (x_i - \\bar{x})(y_i - \\bar{y})$$"
   ]
  },
  {
   "cell_type": "code",
   "execution_count": 29,
   "metadata": {
    "id": "yAzDeaIvbqiK"
   },
   "outputs": [],
   "source": [
    "def covariancia_amostral(dados):\n",
    "    somatorio = 0\n",
    "    n = len(dados)\n",
    "    covariancia = 0\n",
    "    dadosx = []\n",
    "    dadosy = []\n",
    "    for i in dados:\n",
    "        x = i[0]\n",
    "        y = i[1]\n",
    "        dadosx.append(x)\n",
    "        dadosy.append(y)\n",
    "    mediax = media_aritmetica(dadosx)\n",
    "    mediay = media_aritmetica(dadosy)\n",
    "    for i in dados:\n",
    "        x = i[0]\n",
    "        y = i[1]\n",
    "        somatorio = somatorio + ((x - mediax) * (y - mediay))\n",
    "    if n > 1:\n",
    "        covariancia = somatorio / (n - 1)\n",
    "    return covariancia"
   ]
  },
  {
   "cell_type": "markdown",
   "metadata": {
    "id": "L1Kp33UweOok"
   },
   "source": [
    "### <font color=darkblue>Coeficiente de Correlação Populacional de Pearson</font>\n",
    "Para dados correlacionados = $[[x_1,y_1], [x_2,y_2], [x_3,y_3], ...]$\n",
    "## $$\\rho_{xy} = \\frac{\\sigma_{xy}}{\\sigma_x \\sigma_y}$$"
   ]
  },
  {
   "cell_type": "code",
   "execution_count": 30,
   "metadata": {
    "id": "lxWe2cAzc6mp"
   },
   "outputs": [],
   "source": [
    "def coeficiente_correlacao_populacional_pearson(dados):\n",
    "    dadosx = []\n",
    "    dadosy = []\n",
    "    for i in dados:\n",
    "        x = i[0]\n",
    "        y = i[1]\n",
    "        dadosx.append(x)\n",
    "        dadosy.append(y)\n",
    "    covariancia = covariancia_populacional(dados)\n",
    "    desviox = desvio_padrao_populacional(dadosx)\n",
    "    desvioy = desvio_padrao_populacional(dadosy)\n",
    "    coeficiente = covariancia / (desviox * desvioy)\n",
    "    return coeficiente"
   ]
  },
  {
   "cell_type": "markdown",
   "metadata": {
    "id": "-zYDl59NfEcR"
   },
   "source": [
    "### <font color=darkblue>Coeficiente de Correlação Amostral de Pearson</font>\n",
    "Para dados correlacionados = $[[x_1,y_1], [x_2,y_2], [x_3,y_3], ...]$\n",
    "## $$r_{xy} = \\frac{s_{xy}}{s_x s_y}$$"
   ]
  },
  {
   "cell_type": "code",
   "execution_count": 31,
   "metadata": {
    "id": "ymde9vzheELj"
   },
   "outputs": [],
   "source": [
    "def coeficiente_correlacao_amostral_pearson(dados):\n",
    "    dadosx = []\n",
    "    dadosy = []\n",
    "    for i in dados:\n",
    "        x = i[0]\n",
    "        y = i[1]\n",
    "        dadosx.append(x)\n",
    "        dadosy.append(y)\n",
    "    covariancia = covariancia_amostral(dados)\n",
    "    desviox = desvio_padrao_amostral(dadosx)\n",
    "    desvioy = desvio_padrao_amostral(dadosy)\n",
    "    coeficiente = covariancia / (desviox * desvioy)\n",
    "    return coeficiente"
   ]
  },
  {
   "cell_type": "markdown",
   "metadata": {
    "id": "oByO4yRRfkCQ"
   },
   "source": [
    "### <font color=darkblue>Somatório dos Quadrados</font>\n",
    "Para dados não agrupados = $[x_1, x_2, x_3, ...]$\n",
    "## $$SS_x = \\sum_{i=1}^{n} {x_i}^2 - \\frac{(\\sum_{i=1}^{n} x_i)^2}{n}$$"
   ]
  },
  {
   "cell_type": "code",
   "execution_count": 32,
   "metadata": {
    "id": "b2W_FBQgf9CG"
   },
   "outputs": [],
   "source": [
    "def somatorio_quadrados(dados):\n",
    "    sq = 0\n",
    "    s = 0\n",
    "    somatorio = 0\n",
    "    n = len(dados)\n",
    "    for i in dados:\n",
    "        sq = sq + pow(i, 2)\n",
    "        s = s + i\n",
    "    if n > 0:\n",
    "        somatorio = sq - (pow(s, 2) / n)\n",
    "    return somatorio"
   ]
  },
  {
   "cell_type": "markdown",
   "metadata": {
    "id": "XYVRlq4HhK35"
   },
   "source": [
    "### <font color=darkblue>Somatório dos Produtos XY</font>\n",
    "Para dados correlacionados = $[[x_1,y_1], [x_2,y_2], [x_3,y_3], ...]$\n",
    "## $$SS_{xy} = \\sum_{i=1}^{n} x_i y_i - \\frac{(\\sum_{i=1}^{n} x_i)(\\sum_{i=1}^{n} y_i)}{n}$$"
   ]
  },
  {
   "cell_type": "code",
   "execution_count": 33,
   "metadata": {
    "id": "KxPZNZccguqG"
   },
   "outputs": [],
   "source": [
    "def somatorio_produtos(dados):\n",
    "    sp = 0\n",
    "    sx = 0\n",
    "    sy = 0\n",
    "    somatorio = 0\n",
    "    n = len(dados)\n",
    "    for i in dados:\n",
    "        x = i[0]\n",
    "        y = i[1]\n",
    "        sp = sp + (x * y)\n",
    "        sx = sx + x\n",
    "        sy = sy + y\n",
    "    if n > 0:\n",
    "        somatorio = sp - ((sx * sy) / n)\n",
    "    return somatorio"
   ]
  },
  {
   "cell_type": "markdown",
   "metadata": {
    "id": "2OqiuA5niAOq"
   },
   "source": [
    "### <font color=darkblue>Coeficiente de Correlação de Pearson</font>\n",
    "Para dados correlacionados = $[[x_1,y_1], [x_2,y_2], [x_3,y_3], ...]$\n",
    "## $$r = \\frac{SS_{xy}}{\\sqrt{SS_x \\times SS_y}}$$"
   ]
  },
  {
   "cell_type": "code",
   "execution_count": 34,
   "metadata": {
    "id": "XIkl7y79fRuu"
   },
   "outputs": [],
   "source": [
    "def coeficiente_correlacao_pearson(dados):\n",
    "    dadosx = []\n",
    "    dadosy = []\n",
    "    for i in dados:\n",
    "        x = i[0]\n",
    "        y = i[1]\n",
    "        dadosx.append(x)\n",
    "        dadosy.append(y)\n",
    "    sp = somatorio_produtos(dados)\n",
    "    sqx = somatorio_quadrados(dadosx)\n",
    "    sqy = somatorio_quadrados(dadosy)\n",
    "    coeficiente = sp / math.sqrt(sqx * sqy)\n",
    "    return coeficiente"
   ]
  },
  {
   "cell_type": "markdown",
   "metadata": {
    "id": "PhVIlQKVi5gy"
   },
   "source": [
    "### <font color=darkblue>Z-score Populacional</font>\n",
    "Para dados não agrupados = $[x_1, x_2, x_3, ...]$\n",
    "## $$z = \\frac{x - \\mu}{\\sigma}$$"
   ]
  },
  {
   "cell_type": "code",
   "execution_count": 35,
   "metadata": {
    "id": "dqsiPzGwiNqU"
   },
   "outputs": [],
   "source": [
    "def escore_z_populacional(x, dados):\n",
    "    media = media_aritmetica(dados)\n",
    "    desvio = desvio_padrao_populacional(dados)\n",
    "    escore = (x - media) / desvio\n",
    "    return escore"
   ]
  },
  {
   "cell_type": "markdown",
   "metadata": {
    "id": "qfjgcFXGjbyW"
   },
   "source": [
    "### <font color=darkblue>Z-score Amostral</font>\n",
    "Para dados não agrupados = $[x_1, x_2, x_3, ...]$\n",
    "## $$z = \\frac{x - \\bar{x}}{s}$$"
   ]
  },
  {
   "cell_type": "code",
   "execution_count": 36,
   "metadata": {
    "id": "YHjrjcUJi_Uz"
   },
   "outputs": [],
   "source": [
    "def escore_z_amostral(x, dados):\n",
    "    media = media_aritmetica(dados)\n",
    "    desvio = desvio_padrao_amostral(dados)\n",
    "    escore = (x - media) / desvio\n",
    "    return escore"
   ]
  },
  {
   "cell_type": "markdown",
   "metadata": {
    "id": "KXm5DfTYC0vR"
   },
   "source": [
    "### <font color=darkblue>Três Desvios</font>\n",
    "Para dados não agrupados = $[x_1, x_2, x_3, ...]$"
   ]
  },
  {
   "cell_type": "code",
   "execution_count": 37,
   "metadata": {
    "id": "cfbYNK86Ayv3"
   },
   "outputs": [],
   "source": [
    "def tres_desvios(dados, pop = True):\n",
    "    media = media_aritmetica(dados)\n",
    "    tresdesvios = {}\n",
    "    if pop:\n",
    "        desvio = desvio_padrao_populacional(dados)\n",
    "    else:\n",
    "        desvio = desvio_padrao_amostral(dados)\n",
    "    tresdesvios['-3'] = media - (3 * desvio)\n",
    "    tresdesvios['-2'] = media - (2 * desvio)\n",
    "    tresdesvios['-1'] = media - desvio\n",
    "    tresdesvios['+1'] = media + desvio\n",
    "    tresdesvios['+2'] = media + (2 * desvio)\n",
    "    tresdesvios['+3'] = media + (3 * desvio)\n",
    "    return tresdesvios"
   ]
  },
  {
   "cell_type": "markdown",
   "metadata": {
    "id": "qSLzaINLEiVq"
   },
   "source": [
    "### <font color=darkblue>Amplitude</font>\n",
    "Para dados não agrupados = $[x_1, x_2, x_3, ...]$\n",
    "\n",
    "ou agrupados = $[[w_1,x_1], [w_2,x_2], [w_3,x_3], ...]$"
   ]
  },
  {
   "cell_type": "code",
   "execution_count": 38,
   "metadata": {
    "id": "9CdP9JgrDdOH"
   },
   "outputs": [],
   "source": [
    "def amplitude(dados):\n",
    "    if isinstance(dados[0], list):\n",
    "        dados = desagrupar_dados(dados)\n",
    "    dados.sort()\n",
    "    n = len(dados)\n",
    "    amplitude = dados[n-1] - dados[0]\n",
    "    return amplitude"
   ]
  },
  {
   "cell_type": "markdown",
   "metadata": {
    "id": "fLogf7j-kmnX"
   },
   "source": [
    "### <font color=darkblue>Assimetria</font>\n",
    "Para dados não agrupados = $[x_1, x_2, x_3, ...]$\n",
    "## $$A = \\frac{1}{n} \\sum_{i=1}^{n} \\Bigl(\\frac{x_i - \\bar{x}}{s}\\Bigl)^3$$"
   ]
  },
  {
   "cell_type": "code",
   "execution_count": 39,
   "metadata": {
    "id": "cA417393kA9E"
   },
   "outputs": [],
   "source": [
    "def assimetria(dados):\n",
    "    somatorio = 0\n",
    "    n = len(dados)\n",
    "    media = media_aritmetica(dados)\n",
    "    desvio = desvio_padrao_amostral(dados)\n",
    "    for x in dados:\n",
    "        somatorio = somatorio + pow((x - media) / desvio, 3)\n",
    "    assimetria = somatorio / n\n",
    "    return assimetria"
   ]
  },
  {
   "cell_type": "markdown",
   "metadata": {
    "id": "HYCitQ8xl0ha"
   },
   "source": [
    "### <font color=darkblue>Curtose</font>\n",
    "Para dados não agrupados = $[x_1, x_2, x_3, ...]$\n",
    "## $$K = \\frac{1}{n} \\sum_{i=1}^{n} \\Bigl(\\frac{x_i - \\bar{x}}{s}\\Bigl)^4 - 3$$"
   ]
  },
  {
   "cell_type": "code",
   "execution_count": 40,
   "metadata": {
    "id": "oZcDbJhblStA"
   },
   "outputs": [],
   "source": [
    "def curtose(dados):\n",
    "    somatorio = 0\n",
    "    n = len(dados)\n",
    "    media = media_aritmetica(dados)\n",
    "    desvio = desvio_padrao_amostral(dados)\n",
    "    for x in dados:\n",
    "        somatorio = somatorio + pow((x - media) / desvio, 4)\n",
    "    curtose = (somatorio / n) - 3\n",
    "    return curtose"
   ]
  },
  {
   "cell_type": "markdown",
   "metadata": {
    "id": "xypnOk2Cn3IF"
   },
   "source": [
    "### <font color=darkblue>Quartis</font>\n",
    "Para dados não agrupados = $[x_1, x_2, x_3, ...]$\n",
    "## $$i = \\frac{j(n+1)}{4}$$\n",
    "## $$Q_j = x_i + \\biggl(\\frac{j(n+1)}{4} - i\\biggl) (x_{i+1} - x_i)$$\n",
    "para j = 1, 2 e 3"
   ]
  },
  {
   "cell_type": "code",
   "execution_count": 41,
   "metadata": {
    "id": "nESLAZ3Nt4nS"
   },
   "outputs": [],
   "source": [
    "def quartis(dados):\n",
    "    quartis = []\n",
    "    dados.sort()\n",
    "    n = len(dados)\n",
    "    for j in range(3):\n",
    "        k = ((j + 1) * (n + 1)) / 4\n",
    "        i = math.floor(k)\n",
    "        q = dados[i-1] + ((k - i) * (dados[i] - dados[i-1]))\n",
    "        quartis.append(q)\n",
    "    return quartis"
   ]
  },
  {
   "cell_type": "markdown",
   "metadata": {
    "id": "-LGw4W00txBF"
   },
   "source": [
    "### <font color=darkblue>Desagrupar dados</font>\n",
    "Para dados agrupados = $[[w_1,x_1], [w_2,x_2], [w_3,x_3], ...]$"
   ]
  },
  {
   "cell_type": "code",
   "execution_count": 42,
   "metadata": {
    "id": "ibajd-JMsQtE"
   },
   "outputs": [],
   "source": [
    "def desagrupar_dados(dados):\n",
    "    dadosdesagrupados = []\n",
    "    for i in dados:\n",
    "        w = i[0]\n",
    "        x = i[1]\n",
    "        for j in range(w):\n",
    "            dadosdesagrupados.append(x)\n",
    "    return dadosdesagrupados"
   ]
  },
  {
   "cell_type": "markdown",
   "metadata": {
    "id": "fE4unTPF_Kqx"
   },
   "source": [
    "### <font color=darkblue>Agrupar dados</font>\n",
    "Para dados não agrupados = $[x_1, x_2, x_3, ...]$"
   ]
  },
  {
   "cell_type": "code",
   "execution_count": 43,
   "metadata": {
    "id": "hRbyBszIuG6o"
   },
   "outputs": [],
   "source": [
    "def agrupar_dados(dados):\n",
    "    dadosagrupados = []\n",
    "    dados.sort()\n",
    "    n = len(dados)\n",
    "    i = 0\n",
    "    while i < n:\n",
    "        x = dados[i]\n",
    "        w = 1\n",
    "        j = i + 1\n",
    "        while j < n:\n",
    "            if x == dados[j]:\n",
    "                w = w + 1\n",
    "                j = j + 1\n",
    "            else:\n",
    "                break\n",
    "        dadosagrupados.append([w, x])\n",
    "        i = j\n",
    "    return dadosagrupados"
   ]
  },
  {
   "cell_type": "markdown",
   "metadata": {
    "id": "j44Jh-cy2aim"
   },
   "source": [
    "# Demonstração dos cálculos estatísticos\n",
    "\n",
    "(*) funções nativas"
   ]
  },
  {
   "cell_type": "code",
   "execution_count": 44,
   "metadata": {
    "id": "zyk2EZS4oh51"
   },
   "outputs": [],
   "source": [
    "# dados para exemplo\n",
    "\n",
    "dados_nao_agrupados = [1, 2, 2, 3, 3, 5, 6, 6, 6, 6, 7, 8, 8, 8, 9]\n",
    "\n",
    "dados_agrupados = [[1, 1], [2, 2], [2, 3], [1, 5], [4, 6], [1, 7], [3, 8], [1, 9]]\n",
    "\n",
    "dados_correlacionados_agrupados = [[1, 9], [2, 10], [3, 11], [4, 12], [5, 13], [6, 14], [7, 15], [8, 16]]\n",
    "\n",
    "dados_correlacionados_a = [1, 2, 3, 4, 5, 6, 7, 8]\n",
    "dados_correlacionados_b = [9, 10, 11, 12, 13, 14, 15, 16]\n",
    "\n",
    "x = 2\n",
    "\n",
    "df_nao_agrupado = pd.DataFrame (dados_nao_agrupados, columns = ['x'])\n",
    "\n",
    "df_agrupado = pd.DataFrame (dados_agrupados, columns = ['w', 'x'])"
   ]
  },
  {
   "cell_type": "code",
   "execution_count": 45,
   "metadata": {
    "colab": {
     "base_uri": "https://localhost:8080/"
    },
    "id": "aES9lstQ2oNe",
    "outputId": "b71262fd-7b7f-491d-89da-8cf19a6380fa"
   },
   "outputs": [
    {
     "name": "stdout",
     "output_type": "stream",
     "text": [
      "Média Aritmética: 5.333333333333333\n",
      "Média Aritmética (*): 5.333333333333333\n",
      "Média Aritmética (*): 5.333333333333333\n",
      "\n",
      "Média Aritmética Ponderada: 5.333333333333333\n",
      "Média Geométrica: 4.554414300660055\n",
      "Média Geométrica Ponderada: 4.554414300660055\n",
      "Média Harmônica: 3.603775383735343\n",
      "Média Harmômica Ponderada: 3.603775383735343\n",
      "Média Quadrática: 5.876506898943736\n",
      "Média Quadrática Ponderada: 5.876506898943736\n",
      "Média Cúbica: 6.253349315923748\n",
      "Média Cúbica Ponderada: 6.253349315923748\n",
      "Média Desarmônica: 6.36546904484207\n",
      "Média Desarmônica Ponderada: 6.36546904484207\n",
      "\n",
      "Mediana: 6\n",
      "Mediana (*): 6\n",
      "Mediana (*): 6.0\n",
      "\n",
      "Moda: [6]\n",
      "Moda (*): 6\n",
      "Moda (*): 0    6\n",
      "dtype: int64\n",
      "\n",
      "Desvio Absoluto Médio: 2.1333333333333337\n",
      "Desvio Absoluto Mediano: 2\n",
      "\n",
      "Variância Populacional: 6.088888888888889\n",
      "Variância Populacional (*): 6.088888888888889\n",
      "\n",
      "Desvio Padrão Populacional: 2.4675674031095665\n",
      "Desvio Padrão Populacional (*): 2.4675674031095665\n",
      "\n",
      "Variância Amostral: 6.523809523809524\n",
      "Variância Amostral (*): 6.523809523809524\n",
      "Variância Amostral (*): 6.523809523809524\n",
      "\n",
      "Desvio Padrão Amostral: 2.554174920362645\n",
      "Desvio Padrão Amostral (*): 2.554174920362645\n",
      "Desvio Padrão Amostral (*): 2.554174920362645\n",
      "\n",
      "Variância Populacional (agrupado): 6.088888888888889\n",
      "Desvio Padrão Populacional (agrupado): 2.4675674031095665\n",
      "Variância Amostral (agrupado): 6.523809523809524\n",
      "Desvio Padrão Amostral (agrupado): 2.554174920362645\n",
      "\n",
      "Coeficiente de Variação: 0.46266888808304374\n",
      "Coeficiente de Variação (agrupado): 0.46266888808304374\n",
      "\n",
      "Covariância Populacional: 5.25\n",
      "Covariância Amostral: 6.0\n",
      "\n",
      "Coeficiente de Correlação Populacional de Pearson: 1.0\n",
      "Coeficiente de Correlação Amostral de Pearson: 1.0000000000000002\n",
      "\n",
      "Somatório dos Quadrados: 91.33333333333331\n",
      "Somatório dos Produtos: 42.0\n",
      "\n",
      "Coeficiente de Correlação de Pearson: 1.0\n",
      "\n",
      "Escore Z Populacional: -1.3508580673957478\n",
      "Escore Z Amostral: -1.3050528790174099\n",
      "\n",
      "Três Desvios: {'-3': -2.069368875995367, '-2': 0.3981985271142001, '-1': 2.8657659302237666, '+1': 7.8009007364429, '+2': 10.268468139552466, '+3': 12.736035542662034}\n",
      "\n",
      "Amplitude (dados não agrupados): 8\n",
      "Amplitude (dados agrupados): 8\n",
      "\n",
      "Assimetria: -0.27561700705282527\n",
      "Curtose: -1.4339353899159955\n",
      "Quartis: [3.0, 6.0, 8.0]\n",
      "\n",
      "Desagrupar dados: [1, 2, 2, 3, 3, 5, 6, 6, 6, 6, 7, 8, 8, 8, 9]\n",
      "Agrupar dados: [[1, 1], [2, 2], [2, 3], [1, 5], [4, 6], [1, 7], [3, 8], [1, 9]]\n"
     ]
    }
   ],
   "source": [
    "# execuções das funções\n",
    "# (*) funções nativas\n",
    "\n",
    "print(f'Média Aritmética: {media_aritmetica(dados_nao_agrupados)}')\n",
    "print(f'Média Aritmética (*): {statistics.mean(dados_nao_agrupados)}')\n",
    "print(f\"Média Aritmética (*): {df_nao_agrupado['x'].mean()}\\n\")\n",
    "\n",
    "print(f'Média Aritmética Ponderada: {media_aritmetica_ponderada(dados_agrupados)}')\n",
    "\n",
    "print(f'Média Geométrica: {media_geometrica(dados_nao_agrupados)}')\n",
    "\n",
    "print(f'Média Geométrica Ponderada: {media_geometrica_ponderada(dados_agrupados)}')\n",
    "\n",
    "print(f'Média Harmônica: {media_harmonica(dados_nao_agrupados)}')\n",
    "\n",
    "print(f'Média Harmômica Ponderada: {media_harmonica_ponderada(dados_agrupados)}')\n",
    "\n",
    "print(f'Média Quadrática: {media_quadratica(dados_nao_agrupados)}')\n",
    "\n",
    "print(f'Média Quadrática Ponderada: {media_quadratica_ponderada(dados_agrupados)}')\n",
    "\n",
    "print(f'Média Cúbica: {media_cubica(dados_nao_agrupados)}')\n",
    "\n",
    "print(f'Média Cúbica Ponderada: {media_cubica_ponderada(dados_agrupados)}')\n",
    "\n",
    "print(f'Média Desarmônica: {media_desarmonica(dados_nao_agrupados)}')\n",
    "\n",
    "print(f'Média Desarmônica Ponderada: {media_desarmonica_ponderada(dados_agrupados)}\\n')\n",
    "\n",
    "print(f'Mediana: {mediana(dados_nao_agrupados)}')\n",
    "print(f'Mediana (*): {statistics.median(dados_nao_agrupados)}')\n",
    "print(f\"Mediana (*): {df_nao_agrupado['x'].median()}\\n\")\n",
    "\n",
    "print(f'Moda: {moda(dados_nao_agrupados)}')\n",
    "print(f'Moda (*): {statistics.mode(dados_nao_agrupados)}')\n",
    "print(f\"Moda (*): {df_nao_agrupado['x'].mode()}\\n\")\n",
    "\n",
    "print(f'Desvio Absoluto Médio: {desvio_medio(dados_nao_agrupados)}')\n",
    "print(f'Desvio Absoluto Mediano: {desvio_mediano(dados_nao_agrupados)}\\n')\n",
    "\n",
    "print(f'Variância Populacional: {variancia_populacional(dados_nao_agrupados)}')\n",
    "print(f'Variância Populacional (*): {statistics.pvariance(dados_nao_agrupados)}\\n')\n",
    "\n",
    "print(f'Desvio Padrão Populacional: {desvio_padrao_populacional(dados_nao_agrupados)}')\n",
    "print(f'Desvio Padrão Populacional (*): {statistics.pstdev(dados_nao_agrupados)}\\n')\n",
    "\n",
    "print(f'Variância Amostral: {variancia_amostral(dados_nao_agrupados)}')\n",
    "print(f'Variância Amostral (*): {statistics.variance(dados_nao_agrupados)}')\n",
    "print(f\"Variância Amostral (*): {df_nao_agrupado['x'].var()}\\n\")\n",
    "\n",
    "print(f'Desvio Padrão Amostral: {desvio_padrao_amostral(dados_nao_agrupados)}')\n",
    "print(f'Desvio Padrão Amostral (*): {statistics.stdev(dados_nao_agrupados)}')\n",
    "print(f\"Desvio Padrão Amostral (*): {df_nao_agrupado['x'].std()}\\n\")\n",
    "\n",
    "print(f'Variância Populacional (agrupado): {variancia_populacional_agrupado(dados_agrupados)}')\n",
    "\n",
    "print(f'Desvio Padrão Populacional (agrupado): {desvio_padrao_populacional_agrupado(dados_agrupados)}')\n",
    "\n",
    "print(f'Variância Amostral (agrupado): {variancia_amostral_agrupado(dados_agrupados)}')\n",
    "\n",
    "print(f'Desvio Padrão Amostral (agrupado): {desvio_padrao_amostral_agrupado(dados_agrupados)}\\n')\n",
    "\n",
    "print(f'Coeficiente de Variação: {coeficiente_variacao(dados_nao_agrupados)}')\n",
    "\n",
    "print(f'Coeficiente de Variação (agrupado): {coeficiente_variacao_agrupado(dados_agrupados)}\\n')\n",
    "\n",
    "print(f'Covariância Populacional: {covariancia_populacional(dados_correlacionados_agrupados)}')\n",
    "\n",
    "print(f'Covariância Amostral: {covariancia_amostral(dados_correlacionados_agrupados)}\\n')\n",
    "\n",
    "print(f'Coeficiente de Correlação Populacional de Pearson: {coeficiente_correlacao_populacional_pearson(dados_correlacionados_agrupados)}')\n",
    "\n",
    "print(f'Coeficiente de Correlação Amostral de Pearson: {coeficiente_correlacao_amostral_pearson(dados_correlacionados_agrupados)}\\n')\n",
    "\n",
    "print(f'Somatório dos Quadrados: {somatorio_quadrados(dados_nao_agrupados)}')\n",
    "\n",
    "print(f'Somatório dos Produtos: {somatorio_produtos(dados_correlacionados_agrupados)}\\n')\n",
    "\n",
    "print(f'Coeficiente de Correlação de Pearson: {coeficiente_correlacao_pearson(dados_correlacionados_agrupados)}\\n')\n",
    "\n",
    "print(f'Escore Z Populacional: {escore_z_populacional(x, dados_nao_agrupados)}')\n",
    "\n",
    "print(f'Escore Z Amostral: {escore_z_amostral(x, dados_nao_agrupados)}\\n')\n",
    "\n",
    "print(f'Três Desvios: {tres_desvios(dados_nao_agrupados, True)}\\n')\n",
    "\n",
    "print(f'Amplitude (dados não agrupados): {amplitude(dados_nao_agrupados)}')\n",
    "print(f'Amplitude (dados agrupados): {amplitude(dados_agrupados)}\\n')\n",
    "\n",
    "print(f'Assimetria: {assimetria(dados_nao_agrupados)}')\n",
    "\n",
    "print(f'Curtose: {curtose(dados_nao_agrupados)}')\n",
    "\n",
    "print(f'Quartis: {quartis(dados_nao_agrupados)}\\n')\n",
    "\n",
    "print(f'Desagrupar dados: {desagrupar_dados(dados_agrupados)}')\n",
    "\n",
    "print(f'Agrupar dados: {agrupar_dados(dados_nao_agrupados)}')"
   ]
  }
 ],
 "metadata": {
  "colab": {
   "collapsed_sections": [],
   "name": "Algoritmos de Estatistica.ipynb",
   "provenance": []
  },
  "kernelspec": {
   "display_name": "Python 3",
   "language": "python",
   "name": "python3"
  },
  "language_info": {
   "codemirror_mode": {
    "name": "ipython",
    "version": 3
   },
   "file_extension": ".py",
   "mimetype": "text/x-python",
   "name": "python",
   "nbconvert_exporter": "python",
   "pygments_lexer": "ipython3",
   "version": "3.9.9"
  }
 },
 "nbformat": 4,
 "nbformat_minor": 1
}
